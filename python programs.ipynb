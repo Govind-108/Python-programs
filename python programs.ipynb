{
 "cells": [
  {
   "cell_type": "code",
   "execution_count": 1,
   "id": "3e4d6365",
   "metadata": {},
   "outputs": [
    {
     "name": "stdout",
     "output_type": "stream",
     "text": [
      "hello word!\n"
     ]
    }
   ],
   "source": [
    "#1\n",
    "print(\"hello word!\")"
   ]
  },
  {
   "cell_type": "code",
   "execution_count": 2,
   "id": "b9db07c8",
   "metadata": {},
   "outputs": [
    {
     "name": "stdout",
     "output_type": "stream",
     "text": [
      "9\n"
     ]
    }
   ],
   "source": [
    "#2\n",
    "print(4+5)"
   ]
  },
  {
   "cell_type": "code",
   "execution_count": 3,
   "id": "5ac92091",
   "metadata": {},
   "outputs": [
    {
     "name": "stdout",
     "output_type": "stream",
     "text": [
      "5.0\n"
     ]
    }
   ],
   "source": [
    "#3\n",
    "import math\n",
    "a=25\n",
    "print(math.sqrt(25))"
   ]
  },
  {
   "cell_type": "code",
   "execution_count": 4,
   "id": "07e3f2c6",
   "metadata": {},
   "outputs": [
    {
     "name": "stdout",
     "output_type": "stream",
     "text": [
      "area of triangle\n",
      "15\n"
     ]
    }
   ],
   "source": [
    "#4\n",
    "print(\"area of triangle\")\n",
    "a=5\n",
    "b=6\n",
    "print((5*6)//2)"
   ]
  },
  {
   "cell_type": "code",
   "execution_count": 5,
   "id": "ce8419ba",
   "metadata": {},
   "outputs": [
    {
     "name": "stdout",
     "output_type": "stream",
     "text": [
      "4 3\n"
     ]
    }
   ],
   "source": [
    "#5\n",
    "a=3\n",
    "b=4\n",
    "a,b=b,a\n",
    "print(a,b)"
   ]
  },
  {
   "cell_type": "code",
   "execution_count": 21,
   "id": "6a704c7c",
   "metadata": {},
   "outputs": [
    {
     "name": "stdout",
     "output_type": "stream",
     "text": [
      "enter the coefficent of quadratic equation\n",
      "2\n",
      "4\n",
      "8\n",
      "roots are imaginary\n",
      "-1 + i 1.0\n",
      "-1 - i 1.0\n"
     ]
    }
   ],
   "source": [
    "#6\n",
    "import math\n",
    "print(\"enter the coefficent of quadratic equation\")\n",
    "a=int(input())\n",
    "b=int(input())\n",
    "c=int(input())\n",
    "if ((b*b)-(4*a*c))>0:\n",
    "    print(\"real and distinct roots exist\")\n",
    "    r1=(-b + math.sqrt(((b*b)-(4*a*c))))//(2*a)\n",
    "    r2=(-b - math.sqrt(((b*b)-(4*a*c))))//(2*a)\n",
    "    print(\"r1= \",r1 /n,\"r2= \",r2)\n",
    "elif ((b*b)-(4*a*c))==0:\n",
    "    print(\"real and same roots are exist\")\n",
    "    r=(-b + math.sqrt((b*b)-(4*a*c)))\n",
    "    print(r)\n",
    "else:\n",
    "    print(\"roots are imaginary\")\n",
    "    r1=((-b)//(2*a))\n",
    "    r2=(math.sqrt(abs((b*b)-(4*a*c))))//(2*a)\n",
    "    print(r1,\"+ i\",r2)\n",
    "    print(r1,\"- i\",r2)"
   ]
  },
  {
   "cell_type": "code",
   "execution_count": 26,
   "id": "d44342b8",
   "metadata": {},
   "outputs": [
    {
     "name": "stdout",
     "output_type": "stream",
     "text": [
      "6\n"
     ]
    }
   ],
   "source": [
    "#7\n",
    "import random\n",
    "x=random.randint(1,10)\n",
    "print(x)"
   ]
  },
  {
   "cell_type": "code",
   "execution_count": 32,
   "id": "234bdaf1",
   "metadata": {},
   "outputs": [
    {
     "name": "stdout",
     "output_type": "stream",
     "text": [
      "enter the temp in celcius-40\n",
      "-40.0\n"
     ]
    }
   ],
   "source": [
    "#8\n",
    "x=int(input(\"enter the temp in celcius\"))\n",
    "f=(9/5)*x+32\n",
    "print(f)"
   ]
  },
  {
   "cell_type": "code",
   "execution_count": 42,
   "id": "e1f5bcbd",
   "metadata": {},
   "outputs": [
    {
     "name": "stdout",
     "output_type": "stream",
     "text": [
      "enter a year2020\n",
      "leap year\n"
     ]
    }
   ],
   "source": [
    "#9\n",
    "x=int(input(\"enter a year\"))\n",
    "if x%100==0:\n",
    "    if x%400==0:\n",
    "        print(\"leap year\")\n",
    "    else:\n",
    "        print(\"not leap year\")\n",
    "elif x%4==0:\n",
    "      print(\"leap year\")\n",
    "else:\n",
    "    print(\"not leap year\")"
   ]
  },
  {
   "cell_type": "code",
   "execution_count": 3,
   "id": "20dcaf54",
   "metadata": {},
   "outputs": [
    {
     "name": "stdout",
     "output_type": "stream",
     "text": [
      "enter three numbers\n",
      "2\n",
      "3\n",
      "4\n",
      "3rd number is greater\n"
     ]
    }
   ],
   "source": [
    "#10\n",
    "print(\"enter three numbers\")\n",
    "x=int(input())\n",
    "y=int(input())\n",
    "z=int(input())\n",
    "if x>y:\n",
    "    if x>z:\n",
    "        print(\"1st number is greater\")\n",
    "    else:\n",
    "        print(\"3rd number is greater\")\n",
    "else:\n",
    "    if y>z:\n",
    "        print(\"2nd number is greater\")\n",
    "    else:\n",
    "        print(\"3rd number is greater\")"
   ]
  },
  {
   "cell_type": "code",
   "execution_count": 8,
   "id": "b7c73ac5",
   "metadata": {},
   "outputs": [
    {
     "name": "stdout",
     "output_type": "stream",
     "text": [
      "enter a number0\n",
      "number is equal to 0\n"
     ]
    }
   ],
   "source": [
    "#11\n",
    "#odd or even\n",
    "x=int(input(\"enter a number\"))\n",
    "if x>0:\n",
    "    print(\"number is  positive\")\n",
    "elif x<0:\n",
    "    print(\"number is negative\")\n",
    "else:\n",
    "    print(\"number is equal to 0\")"
   ]
  },
  {
   "cell_type": "code",
   "execution_count": 10,
   "id": "3e5831db",
   "metadata": {},
   "outputs": [
    {
     "name": "stdout",
     "output_type": "stream",
     "text": [
      "enter a number5\n",
      "number is odd\n"
     ]
    }
   ],
   "source": [
    "#12\n",
    "x=int(input(\"enter a number\"))\n",
    "if x%2==0:\n",
    "    print(\"number is even\")\n",
    "else:\n",
    "    print(\"number is odd\")"
   ]
  },
  {
   "cell_type": "code",
   "execution_count": 14,
   "id": "644bcff8",
   "metadata": {},
   "outputs": [
    {
     "name": "stdout",
     "output_type": "stream",
     "text": [
      "enter a number6\n",
      "numeber is not prime\n"
     ]
    }
   ],
   "source": [
    "#13\n",
    "x=int(input(\"enter a number\"))\n",
    "flag=0\n",
    "for i in range(2,x):\n",
    "    if x%i==0:\n",
    "        flag=1\n",
    "        break\n",
    "if flag==1:\n",
    "    print(\"numeber is not prime\")\n",
    "else:\n",
    "    print(\"number is prime\")"
   ]
  },
  {
   "cell_type": "code",
   "execution_count": 19,
   "id": "ec61e0e5",
   "metadata": {},
   "outputs": [
    {
     "name": "stdout",
     "output_type": "stream",
     "text": [
      "enter the lower and upper bound\n",
      "2\n",
      "30\n",
      "2\n",
      "3\n",
      "5\n",
      "7\n",
      "11\n",
      "13\n",
      "17\n",
      "19\n",
      "23\n",
      "29\n"
     ]
    }
   ],
   "source": [
    "#14\n",
    "print(\"enter the lower and upper bound\")\n",
    "l=int(input())\n",
    "u=int(input())\n",
    "for i in range(l,u+1):\n",
    "    flag=0\n",
    "    for j in range(2,i):\n",
    "        if i%j==0:\n",
    "            flag=1\n",
    "            break\n",
    "    if flag==0:\n",
    "        print(i)\n",
    "    else:\n",
    "        continue"
   ]
  },
  {
   "cell_type": "code",
   "execution_count": 22,
   "id": "b3970d19",
   "metadata": {},
   "outputs": [
    {
     "name": "stdout",
     "output_type": "stream",
     "text": [
      "enter a number4\n",
      "24\n"
     ]
    }
   ],
   "source": [
    "#15\n",
    "def facto(n):\n",
    "    if n==1 or n==0:\n",
    "        return 1\n",
    "    else:\n",
    "        x=n*facto(n-1)\n",
    "        return x\n",
    "y=int(input(\"enter a number\"))\n",
    "print(facto(y))"
   ]
  },
  {
   "cell_type": "code",
   "execution_count": 31,
   "id": "50afb283",
   "metadata": {},
   "outputs": [
    {
     "name": "stdout",
     "output_type": "stream",
     "text": [
      "enter a number5\n",
      "5 x 1 = 5\n",
      "5 x 2 = 10\n",
      "5 x 3 = 15\n",
      "5 x 4 = 20\n",
      "5 x 5 = 25\n",
      "5 x 6 = 30\n",
      "5 x 7 = 35\n",
      "5 x 8 = 40\n",
      "5 x 9 = 45\n",
      "5 x 10 = 50\n"
     ]
    }
   ],
   "source": [
    "y=int(input(\"enter a number\"))\n",
    "x=[print(y,\"x\",i,\"=\",y*i) for i in range(1,11) ]"
   ]
  },
  {
   "cell_type": "code",
   "execution_count": 39,
   "id": "3391fd35",
   "metadata": {},
   "outputs": [
    {
     "name": "stdout",
     "output_type": "stream",
     "text": [
      "enter a number till printing a series8\n",
      "13\n"
     ]
    }
   ],
   "source": [
    "#16\n",
    "def fibb(n):\n",
    "    a,b=0,1\n",
    "    if n==1:\n",
    "        return a\n",
    "    elif n==2:\n",
    "        return b\n",
    "    else:\n",
    "        return fibb(n-2)+fibb(n-1)\n",
    "x=int(input(\"nth term of fibonacci series\"))\n",
    "print(fibb(x))"
   ]
  },
  {
   "cell_type": "code",
   "execution_count": 12,
   "id": "42d378ac",
   "metadata": {},
   "outputs": [
    {
     "name": "stdout",
     "output_type": "stream",
     "text": [
      "enter a number8\n",
      "1\n",
      "2\n",
      "3\n",
      "5\n",
      "8\n",
      "13\n"
     ]
    }
   ],
   "source": [
    "#17\n",
    "# print series of fibonacci series\n",
    "#31\n",
    "def fibb(n,a=0,b=1):\n",
    "    if n<2 and n>0:\n",
    "        if n==1:\n",
    "            print(a)\n",
    "        else:\n",
    "            print(a)\n",
    "            print(b)\n",
    "    elif n>2:\n",
    "        c=a+b\n",
    "        print(c)\n",
    "        a=b\n",
    "        b=c\n",
    "        fibb(n-1,a,b)\n",
    "x=int(input(\"enter a number\"))\n",
    "fibb(x)"
   ]
  },
  {
   "cell_type": "code",
   "execution_count": 11,
   "id": "7923cf5a",
   "metadata": {},
   "outputs": [
    {
     "name": "stdout",
     "output_type": "stream",
     "text": [
      "enter a number153\n",
      "armstrong\n"
     ]
    }
   ],
   "source": [
    "#18\n",
    "y=int(input(\"enter a number\"))\n",
    "x=y\n",
    "s=0\n",
    "while x>0:\n",
    "    r=x%10\n",
    "    s=s+(r*r*r)\n",
    "    x=x//10\n",
    "if s==y:\n",
    "    print(\"armstrong\")\n",
    "else:\n",
    "    print(\"not armstrong\")"
   ]
  },
  {
   "cell_type": "code",
   "execution_count": 14,
   "id": "a8b08b06",
   "metadata": {},
   "outputs": [
    {
     "name": "stdout",
     "output_type": "stream",
     "text": [
      "enter the range of number\n",
      "1\n",
      "1000\n",
      "1\n",
      "153\n",
      "370\n",
      "371\n",
      "407\n"
     ]
    }
   ],
   "source": [
    "#19\n",
    "print(\"enter the range of number\")\n",
    "a=int(input())\n",
    "y=int(input())\n",
    "for i in range(a,y+1):\n",
    "    x=i\n",
    "    s=0\n",
    "    while x>0:\n",
    "        r=x%10\n",
    "        s=s+(r*r*r)\n",
    "        x=x//10\n",
    "    if s==i:\n",
    "        print(i)\n",
    "    else:\n",
    "        continue"
   ]
  },
  {
   "cell_type": "code",
   "execution_count": 17,
   "id": "a38cc456",
   "metadata": {},
   "outputs": [
    {
     "name": "stdout",
     "output_type": "stream",
     "text": [
      "enter a number4\n",
      "10\n"
     ]
    }
   ],
   "source": [
    "#20\n",
    "#sum of n natural number\n",
    "n=int(input(\"enter a number\"))\n",
    "s=n*(n+1)//2\n",
    "print(s)"
   ]
  },
  {
   "cell_type": "code",
   "execution_count": 19,
   "id": "f617f39b",
   "metadata": {},
   "outputs": [
    {
     "name": "stdout",
     "output_type": "stream",
     "text": [
      "enter the degree of power\n",
      "3\n",
      "8\n"
     ]
    }
   ],
   "source": [
    "#21\n",
    "#power of two\n",
    "def powe(n):\n",
    "    p=1\n",
    "    for i in range(n):\n",
    "        p=p*2\n",
    "    print(p)\n",
    "print(\"enter the degree of power\")\n",
    "n=int(input())\n",
    "powe(n)"
   ]
  },
  {
   "cell_type": "code",
   "execution_count": 26,
   "id": "7a902fe0",
   "metadata": {},
   "outputs": [
    {
     "name": "stdout",
     "output_type": "stream",
     "text": [
      "enter two numbers\n",
      "2\n",
      "8\n",
      "2nd number is divisible by 1st\n"
     ]
    }
   ],
   "source": [
    "#22\n",
    "print(\"enter two numbers\")\n",
    "x=int(input())\n",
    "y=int(input())\n",
    "if x%y==0 and y%x==0:\n",
    "    print(\"both number divides each other\")\n",
    "elif x%y==0:\n",
    "    print(\"1st number is divisible by 2nd\")\n",
    "else:\n",
    "    print(\"2nd number is divisible by 1st\")"
   ]
  },
  {
   "cell_type": "code",
   "execution_count": 27,
   "id": "d7f133c9",
   "metadata": {},
   "outputs": [
    {
     "name": "stdout",
     "output_type": "stream",
     "text": [
      "enter a number\n",
      "344\n",
      "0b101011000\n",
      "0o530\n",
      "0x158\n"
     ]
    }
   ],
   "source": [
    "#23\n",
    "print(\"enter a number\")\n",
    "x=int(input())\n",
    "print(bin(x))\n",
    "print(oct(x))\n",
    "print(hex(x))"
   ]
  },
  {
   "cell_type": "code",
   "execution_count": 32,
   "id": "44e3cddd",
   "metadata": {},
   "outputs": [
    {
     "name": "stdout",
     "output_type": "stream",
     "text": [
      "enter a charecterA\n",
      "65\n"
     ]
    }
   ],
   "source": [
    "#24\n",
    "x=input(\"enter a charecter\")\n",
    "y=ord(x)#ord()returns unicode\n",
    "print(y)"
   ]
  },
  {
   "cell_type": "code",
   "execution_count": 2,
   "id": "71e79830",
   "metadata": {},
   "outputs": [
    {
     "name": "stdout",
     "output_type": "stream",
     "text": [
      "25\n",
      "35\n",
      "5\n"
     ]
    }
   ],
   "source": [
    "#25\n",
    "def hcf(x,y):\n",
    "    a=[]\n",
    "    if x>y:\n",
    "        g=x\n",
    "    else:\n",
    "        g=y\n",
    "    for i in range(1,g):\n",
    "        if( x%i==0 and y%i==0):\n",
    "            a.append(i)\n",
    "    print(a[-1])\n",
    "x=int(input())\n",
    "y=int(input())\n",
    "hcf(x,y)\n",
    "#print(z)\n",
    "        "
   ]
  },
  {
   "cell_type": "code",
   "execution_count": 41,
   "id": "019d668a",
   "metadata": {},
   "outputs": [
    {
     "name": "stdout",
     "output_type": "stream",
     "text": [
      "10\n",
      "14\n",
      "70\n"
     ]
    }
   ],
   "source": [
    "#26\n",
    "def lcm(x,y):\n",
    "    if x>y:\n",
    "        g=x\n",
    "    else:\n",
    "        g=y\n",
    "    for i in range(g,x*y):\n",
    "        if( i%x==0 and i%y==0):\n",
    "            print(i)\n",
    "            break\n",
    "        g+=1\n",
    "x=int(input())\n",
    "y=int(input())\n",
    "lcm(x,y)"
   ]
  },
  {
   "cell_type": "markdown",
   "id": "cbd86491",
   "metadata": {},
   "source": [
    "##### "
   ]
  },
  {
   "cell_type": "code",
   "execution_count": 4,
   "id": "757a6926",
   "metadata": {},
   "outputs": [
    {
     "name": "stdout",
     "output_type": "stream",
     "text": [
      "enter a number100\n",
      "1\n",
      "2\n",
      "4\n",
      "5\n",
      "10\n",
      "20\n",
      "25\n",
      "50\n",
      "100\n"
     ]
    }
   ],
   "source": [
    "#27\n",
    "x=int(input(\"enter a number\"))\n",
    "for i in range(1,x+1):\n",
    "    if x%i==0:\n",
    "        print(i)"
   ]
  },
  {
   "cell_type": "code",
   "execution_count": 12,
   "id": "ea915c37",
   "metadata": {},
   "outputs": [
    {
     "name": "stdout",
     "output_type": "stream",
     "text": [
      "enter two number\n",
      "10\n",
      "5\n",
      "enter your choice\n",
      "1: addition\n",
      "2: substraction\n",
      "3: multipication \n",
      "4: division\n",
      "1\n",
      "15\n"
     ]
    }
   ],
   "source": [
    "#28\n",
    "print(\"enter two number\")\n",
    "x=int(input())\n",
    "y=int(input())\n",
    "print(\"enter your choice\")\n",
    "print(\"1: addition\\n2: substraction\\n3: multipication \\n4: division\")\n",
    "z=int(input())\n",
    "if z==1: print(x+y)\n",
    "elif z==2: print(x-y)\n",
    "elif z==3: print(x*y)\n",
    "elif z==4: \n",
    "        try:\n",
    "            print(x/y)\n",
    "        except:\n",
    "            print(\"zero division error\")\n",
    "else: print(\"you have entered wrong choice\")"
   ]
  },
  {
   "cell_type": "code",
   "execution_count": 21,
   "id": "a023afc0",
   "metadata": {},
   "outputs": [
    {
     "name": "stdout",
     "output_type": "stream",
     "text": [
      "[(3, 'Diamond'), (6, 'Spade'), (12, 'Diamond'), (6, 'Diamond'), (2, 'Heart'), (10, 'Spade'), (10, 'Diamond'), (10, 'Heart'), (3, 'Heart'), (5, 'Spade'), (9, 'Heart'), (6, 'Club'), (12, 'Club'), (8, 'Club'), (8, 'Spade'), (9, 'Club'), (4, 'Club'), (13, 'Club'), (5, 'Diamond'), (11, 'Spade'), (9, 'Spade'), (11, 'Diamond'), (8, 'Heart'), (5, 'Club'), (5, 'Heart'), (3, 'Spade'), (13, 'Heart'), (11, 'Heart'), (1, 'Heart'), (7, 'Spade'), (9, 'Diamond'), (12, 'Heart'), (13, 'Diamond'), (1, 'Club'), (12, 'Spade'), (13, 'Spade'), (1, 'Diamond'), (8, 'Diamond'), (2, 'Spade'), (7, 'Club'), (10, 'Club'), (4, 'Diamond'), (2, 'Diamond'), (4, 'Spade'), (6, 'Heart'), (7, 'Heart'), (7, 'Diamond'), (3, 'Club'), (2, 'Club'), (1, 'Spade'), (11, 'Club'), (4, 'Heart')]\n",
      "3 of Diamond\n",
      "6 of Spade\n",
      "12 of Diamond\n",
      "6 of Diamond\n",
      "2 of Heart\n"
     ]
    }
   ],
   "source": [
    "#29 shuffle a deck of card\n",
    "import itertools,random\n",
    "deck=list(itertools.product(range(1,14),[\"Spade\",\"Heart\",\"Diamond\",\"Club\"]))\n",
    "random.shuffle(deck)\n",
    "print(deck)\n",
    "for i in range(5):\n",
    "    print(deck[i][0],\"of\", deck[i][1])"
   ]
  },
  {
   "cell_type": "code",
   "execution_count": 30,
   "id": "63799e3b",
   "metadata": {},
   "outputs": [
    {
     "name": "stdout",
     "output_type": "stream",
     "text": [
      "    January 2022\n",
      "Mo Tu We Th Fr Sa Su\n",
      "                1  2\n",
      " 3  4  5  6  7  8  9\n",
      "10 11 12 13 14 15 16\n",
      "17 18 19 20 21 22 23\n",
      "24 25 26 27 28 29 30\n",
      "31\n",
      "\n"
     ]
    }
   ],
   "source": [
    "#30\n",
    "import calendar\n",
    "print(calendar.month(2022,1))"
   ]
  },
  {
   "cell_type": "code",
   "execution_count": 10,
   "id": "60723c6b",
   "metadata": {},
   "outputs": [
    {
     "name": "stdout",
     "output_type": "stream",
     "text": [
      "enter a number8\n",
      "1\n",
      "2\n",
      "3\n",
      "5\n",
      "8\n",
      "13\n"
     ]
    }
   ],
   "source": [
    "#31\n",
    "def fibb(n,a=0,b=1):\n",
    "    if n<2 and n>0:\n",
    "        if n==1:\n",
    "            print(a)\n",
    "        else:\n",
    "            print(a)\n",
    "            print(b)\n",
    "    elif n>2:\n",
    "        c=a+b\n",
    "        print(c)\n",
    "        a=b\n",
    "        b=c\n",
    "        fibb(n-1,a,b)\n",
    "x=int(input(\"enter a number\"))\n",
    "fibb(x)"
   ]
  },
  {
   "cell_type": "code",
   "execution_count": 27,
   "id": "dacf9bc5",
   "metadata": {},
   "outputs": [
    {
     "name": "stdout",
     "output_type": "stream",
     "text": [
      "enter a number10\n",
      "55\n"
     ]
    }
   ],
   "source": [
    "#32\n",
    "# sum of natural number using recursion\n",
    "def s_f_n(n):\n",
    "    s=0\n",
    "    if n==1:\n",
    "        return 1\n",
    "    else:\n",
    "        s=n+s_f_n(n-1)\n",
    "        \n",
    "    return s    \n",
    "x= int(input(\"enter a number\"))\n",
    "y=s_f_n(x)\n",
    "print(y)"
   ]
  },
  {
   "cell_type": "code",
   "execution_count": 29,
   "id": "14507d5c",
   "metadata": {},
   "outputs": [
    {
     "name": "stdout",
     "output_type": "stream",
     "text": [
      "enter a number5\n",
      "120\n"
     ]
    }
   ],
   "source": [
    "#33\n",
    "#factorial using recursion\n",
    "def facto(n):\n",
    "    if n==0 or n==1:\n",
    "        return 1\n",
    "    else:\n",
    "        return n*facto(n-1)\n",
    "x=int(input(\"enter a number\"))\n",
    "y=facto(x)\n",
    "print(y)"
   ]
  },
  {
   "cell_type": "code",
   "execution_count": 13,
   "id": "e80c359c",
   "metadata": {},
   "outputs": [
    {
     "name": "stdout",
     "output_type": "stream",
     "text": [
      "enrer a number106\n",
      "1101010"
     ]
    }
   ],
   "source": [
    "#34\n",
    "#decimal to binary\n",
    "def bina(n):\n",
    "    k=n\n",
    "    s=[]\n",
    "    if n>0:\n",
    "        bina(n//2)\n",
    "        r=n%2\n",
    "        s.append(r)\n",
    "    for i in s:\n",
    "        print(i,end=\"\")\n",
    "x=int(input(\"enrer a number\"))\n",
    "if x==0:\n",
    "    print(x)\n",
    "else:\n",
    "    bina(x)\n",
    "\n",
    "    \n",
    "    #----------------OR-----------------------\n",
    "#findBinary(decimal)\n",
    "#   if (decimal == 0)\n",
    "#      binary = 0\n",
    "#   else\n",
    "#      binary = decimal % 2 + 10 * (findBinary(decimal / 2)\n",
    "        "
   ]
  },
  {
   "cell_type": "code",
   "execution_count": 5,
   "id": "c39bce6a",
   "metadata": {},
   "outputs": [
    {
     "name": "stdout",
     "output_type": "stream",
     "text": [
      "[[8, 10, 12], [15, 17, 19]]\n"
     ]
    }
   ],
   "source": [
    "#35\n",
    "#adding two matrices\n",
    "x=[[1,2,3],\n",
    "   [4,5,6]\n",
    "  ]\n",
    "y=[[7,8,9],\n",
    "   [11,12,13]\n",
    "  ]\n",
    "c=[[0,0,0],\n",
    "   [0,0,0]\n",
    "  ]\n",
    "for i in range(len(x)):\n",
    "    for j in range(len(x[i])):\n",
    "        c[i][j]=x[i][j]+y[i][j]\n",
    "print(c)"
   ]
  },
  {
   "cell_type": "code",
   "execution_count": 7,
   "id": "0f7e4dbd",
   "metadata": {},
   "outputs": [
    {
     "name": "stdout",
     "output_type": "stream",
     "text": [
      "[[1, 5], [2, 6], [3, 7], [4, 8]]\n"
     ]
    }
   ],
   "source": [
    "#36\n",
    "#transpose a matrix\n",
    "x=[[1,2,3,4],\n",
    "   [5,6,7,8]]\n",
    "c=[[0,0],[0,0],\n",
    "   [0,0],[0,0]]\n",
    "for i in range(len(x)):\n",
    "    for j in range(len(x[i])):\n",
    "        c[j][i]=x[i][j]\n",
    "print(c)"
   ]
  },
  {
   "cell_type": "code",
   "execution_count": 15,
   "id": "0a0188f1",
   "metadata": {},
   "outputs": [
    {
     "name": "stdout",
     "output_type": "stream",
     "text": [
      "[[114, 160, 60, 27], [74, 97, 73, 14], [119, 157, 112, 23]]\n"
     ]
    }
   ],
   "source": [
    "#37\n",
    "#multipy two matrices\n",
    "x = [[12, 7, 3],\n",
    "    [4, 5, 6],\n",
    "    [7, 8, 9]]\n",
    " \n",
    "# take a 3x4 matrix   \n",
    "y = [[5, 8, 1, 2],\n",
    "    [6, 7, 3, 0],\n",
    "    [4, 5, 9, 1]]\n",
    "c=[[0,0,0,0],[0,0,0,0],[0,0,0,0]]\n",
    "for i in range(len(x)):\n",
    "    for j in range(len(y[0])):\n",
    "        c[i][j]=0\n",
    "        for k in range(len(y)):\n",
    "            c[i][j]=c[i][j]+x[i][k]*y[k][j]\n",
    "print(c)"
   ]
  },
  {
   "cell_type": "code",
   "execution_count": 8,
   "id": "2007da8d",
   "metadata": {},
   "outputs": [
    {
     "name": "stdout",
     "output_type": "stream",
     "text": [
      "enter a stringhari\n",
      "not palindrome\n"
     ]
    }
   ],
   "source": [
    "#38\n",
    "#string is palimdron or not\n",
    "x=list(input(\"enter a string\"))\n",
    "y=[]\n",
    "for i in range(1,len(x)+1):\n",
    "    y.append(x[-i])\n",
    "if y==x:\n",
    "    print(\"palindrome\")\n",
    "else:\n",
    "    print(\"not palindrome\")"
   ]
  },
  {
   "cell_type": "code",
   "execution_count": 35,
   "id": "c25958a2",
   "metadata": {},
   "outputs": [
    {
     "name": "stdout",
     "output_type": "stream",
     "text": [
      "enter a sentencehi, how are. you\n",
      "hi how are you"
     ]
    }
   ],
   "source": [
    "#39\n",
    "#remove punctuation from a string\n",
    "x=list(input(\"enter a sentence\"))\n",
    "for i in x:\n",
    "    if i== \",\" or i==\".\":\n",
    "        x.remove(i)\n",
    "for i in x:\n",
    "    print(i,end=\"\")\n"
   ]
  },
  {
   "cell_type": "code",
   "execution_count": 1,
   "id": "46dc693f",
   "metadata": {},
   "outputs": [
    {
     "name": "stdout",
     "output_type": "stream",
     "text": [
      "enter a stringhi are you there\n",
      "are hi there you "
     ]
    }
   ],
   "source": [
    "#40\n",
    "#sort words in alphabetic form\n",
    "x=list(map(str,input(\"enter a string\").split(\" \")))\n",
    "x.sort()\n",
    "for i in x:\n",
    "    print(i,end=\" \") \n"
   ]
  },
  {
   "cell_type": "code",
   "execution_count": 27,
   "id": "8d8787cf",
   "metadata": {},
   "outputs": [
    {
     "name": "stdout",
     "output_type": "stream",
     "text": [
      "{8, 9, 4, 5}\n",
      "{56, 11, 14}\n",
      "{1, 2, 3, 4, 5, 8, 9, 11, 14, 24, 29, 32, 56}\n",
      "{32, 1, 2, 3, 24, 29}\n",
      "{4, 5, 8, 9, 11, 14, 56}\n"
     ]
    }
   ],
   "source": [
    "#41\n",
    "#illustrate the different operation of set\n",
    "x={1,2,3,9,4,8,5,24,32,29}\n",
    "y={14,24,32,56,11,29,1,2,3}\n",
    "print(x-y)#A-B\n",
    "print(y-x)#B-A\n",
    "z=x.union(y)\n",
    "print(z)\n",
    "a=x.intersection(y)\n",
    "print(a)\n",
    "b=x.symmetric_difference(y)\n",
    "print(b)"
   ]
  },
  {
   "cell_type": "code",
   "execution_count": 30,
   "id": "bab1d72f",
   "metadata": {},
   "outputs": [
    {
     "name": "stdout",
     "output_type": "stream",
     "text": [
      "enter a sentence : hi there how can i help you in this task management\n",
      "count of a = 4\n",
      "count of i = 4\n",
      "count of o = 2\n",
      "count of u = 1\n",
      "count of e = 5\n"
     ]
    }
   ],
   "source": [
    "#42\n",
    "#count the number of each vowels\n",
    "x=input(\"enter a sentence : \")\n",
    "if \"a\" in x:\n",
    "    print(\"count of a =\",x.count(\"a\"))\n",
    "if \"i\" in x:\n",
    "    print(\"count of i =\",x.count(\"i\"))\n",
    "if \"o\" in x:\n",
    "    print(\"count of o =\",x.count(\"o\"))\n",
    "if \"u\" in x:\n",
    "    print(\"count of u =\",x.count(\"u\"))\n",
    "if \"e\" in x:\n",
    "    print(\"count of e =\",x.count(\"e\"))"
   ]
  },
  {
   "cell_type": "code",
   "execution_count": 32,
   "id": "a18ebfe2",
   "metadata": {},
   "outputs": [
    {
     "name": "stdout",
     "output_type": "stream",
     "text": [
      "[1, 2, 3, 4, 5, 6, 7, 8, 9]\n"
     ]
    }
   ],
   "source": [
    "#43\n",
    "#flatten a nested list means multi dimension array or list into a 1D list or array\n",
    "x=[[1,2,3],[4,5,6],[7,8,9]]\n",
    "y=[]\n",
    "for i in x:\n",
    "    for j in i:\n",
    "        y.append(j)\n",
    "print(y)\n",
    "#you can use numpy or itertools module"
   ]
  },
  {
   "cell_type": "code",
   "execution_count": 55,
   "id": "b2ba337a",
   "metadata": {},
   "outputs": [
    {
     "name": "stdout",
     "output_type": "stream",
     "text": [
      "apple\n",
      "orange\n",
      "guava\n"
     ]
    },
    {
     "ename": "AttributeError",
     "evalue": "'dict' object has no attribute 'add'",
     "output_type": "error",
     "traceback": [
      "\u001b[1;31m---------------------------------------------------------------------------\u001b[0m",
      "\u001b[1;31mAttributeError\u001b[0m                            Traceback (most recent call last)",
      "\u001b[1;32m<ipython-input-55-74e4101b9c0a>\u001b[0m in \u001b[0;36m<module>\u001b[1;34m\u001b[0m\n\u001b[0;32m     11\u001b[0m     \u001b[1;32mfor\u001b[0m \u001b[0mj\u001b[0m \u001b[1;32min\u001b[0m \u001b[0mi\u001b[0m\u001b[1;33m:\u001b[0m\u001b[1;33m\u001b[0m\u001b[1;33m\u001b[0m\u001b[0m\n\u001b[0;32m     12\u001b[0m         \u001b[0mprint\u001b[0m\u001b[1;33m(\u001b[0m\u001b[0mi\u001b[0m\u001b[1;33m[\u001b[0m\u001b[0mj\u001b[0m\u001b[1;33m]\u001b[0m\u001b[1;33m)\u001b[0m\u001b[1;33m\u001b[0m\u001b[1;33m\u001b[0m\u001b[0m\n\u001b[1;32m---> 13\u001b[1;33m \u001b[0my\u001b[0m\u001b[1;33m.\u001b[0m\u001b[0madd\u001b[0m\u001b[1;33m(\u001b[0m\u001b[0mx\u001b[0m\u001b[1;33m)\u001b[0m\u001b[1;33m\u001b[0m\u001b[1;33m\u001b[0m\u001b[0m\n\u001b[0m\u001b[0;32m     14\u001b[0m \u001b[0mprint\u001b[0m\u001b[1;33m(\u001b[0m\u001b[0my\u001b[0m\u001b[1;33m)\u001b[0m\u001b[1;33m\u001b[0m\u001b[1;33m\u001b[0m\u001b[0m\n",
      "\u001b[1;31mAttributeError\u001b[0m: 'dict' object has no attribute 'add'"
     ]
    }
   ],
   "source": [
    "#44\n",
    "#merge two dictionaries\n",
    "x={\n",
    "    \"fruits\":{1:\"apple\",2:\"orange\",3:\"guava\"},\n",
    "}\n",
    "y={\n",
    "    \"cars\":{1:\"audi\",2:\"honda\",3:\"huindai\"},\n",
    "    \"vegetable\":{1:\"chilly\",2:\"onion\",3:\"pumpkin\"}\n",
    "}\n",
    "for i in x.values():#accessing values in nested dictionary\n",
    "    for j in i:\n",
    "        print(i[j])\n",
    "y.add(x)\n",
    "print(y)"
   ]
  },
  {
   "cell_type": "code",
   "execution_count": 51,
   "id": "9f55c577",
   "metadata": {},
   "outputs": [
    {
     "name": "stdout",
     "output_type": "stream",
     "text": [
      "index of 6 = 0\n",
      "index of 2 = 1\n",
      "index of 5 = 2\n",
      "index of 63 = 3\n",
      "index of 65 = 4\n",
      "index of 1 = 5\n"
     ]
    }
   ],
   "source": [
    "#45 \n",
    "#accesing index from list using for loop\n",
    "x=[6,2,5,63,65,1,]\n",
    "for i in range(len(x)):\n",
    "    print(\"index of\",x[i],\"=\",i)"
   ]
  },
  {
   "cell_type": "code",
   "execution_count": 85,
   "id": "be85fe41",
   "metadata": {},
   "outputs": [
    {
     "data": {
      "text/plain": [
       "'how are you.This is your college please keep it clean. \\nDo not litter here and there'"
      ]
     },
     "execution_count": 85,
     "metadata": {},
     "output_type": "execute_result"
    }
   ],
   "source": [
    "#46 file handling\n",
    "f= open(\"abc.txt\",\"w\")\n",
    "f.write(\"hi this is govind prajapati\")\n",
    "f.close()\n",
    "f=open(\"abc.txt\",\"r\")\n",
    "f.close()\n",
    "f= open(\"abc.txt\",\"w\")\n",
    "f.write(\"Govind \\nMahavir \\nDivyanshu\")\n",
    "f.close()\n",
    "f=open(\"abc.txt\",\"r\")\n",
    "f.read()\n",
    "f.close()\n",
    "g=open(\"body.txt\",\"w\")\n",
    "g.write(\"how are you.This is your college please keep it clean. \\nDo not litter here and there\")\n",
    "g.close()\n",
    "g=open(\"body.txt\",\"r\")\n",
    "g.read()"
   ]
  },
  {
   "cell_type": "markdown",
   "id": "989b4123",
   "metadata": {},
   "source": [
    "mail mearging"
   ]
  },
  {
   "cell_type": "code",
   "execution_count": 93,
   "id": "bd691d9a",
   "metadata": {},
   "outputs": [],
   "source": [
    "#47\n",
    "#mail mergin\n",
    "#create file by name abc.txt and write the name each in new line as in abc.txt\n",
    "#create a file by name body.txt for body content of the mail\n",
    "#file name could be your choice \n",
    "with open(\"abc.txt\",\"r\") as name_file:\n",
    "    with open(\"body.txt\",\"r\") as body_file:\n",
    "        body=body_file.read()\n",
    "        for name in name_file:\n",
    "            mail= f\" Hello {name.split()},\\n{body} \\n \\n\"\n",
    "            with open(name.strip()+\".txt\",\"a\") as mail_file:\n",
    "                mail_file.write(mail)"
   ]
  },
  {
   "cell_type": "code",
   "execution_count": null,
   "id": "3be8808e",
   "metadata": {},
   "outputs": [],
   "source": []
  }
 ],
 "metadata": {
  "kernelspec": {
   "display_name": "Python 3",
   "language": "python",
   "name": "python3"
  },
  "language_info": {
   "codemirror_mode": {
    "name": "ipython",
    "version": 3
   },
   "file_extension": ".py",
   "mimetype": "text/x-python",
   "name": "python",
   "nbconvert_exporter": "python",
   "pygments_lexer": "ipython3",
   "version": "3.8.8"
  }
 },
 "nbformat": 4,
 "nbformat_minor": 5
}
